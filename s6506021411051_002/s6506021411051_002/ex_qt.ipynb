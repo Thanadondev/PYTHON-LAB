{
 "cells": [
  {
   "cell_type": "code",
   "execution_count": 1,
   "metadata": {},
   "outputs": [
    {
     "name": "stdout",
     "output_type": "stream",
     "text": [
      "Collecting pyqt6\n",
      "  Downloading PyQt6-6.5.2-cp37-abi3-win_amd64.whl (6.5 MB)\n",
      "     ---------------------------------------- 6.5/6.5 MB 59.4 MB/s eta 0:00:00\n",
      "Collecting PyQt6-sip<14,>=13.4\n",
      "  Downloading PyQt6_sip-13.5.2-cp310-cp310-win_amd64.whl (72 kB)\n",
      "     ---------------------------------------- 72.7/72.7 kB ? eta 0:00:00\n",
      "Collecting PyQt6-Qt6>=6.5.0\n",
      "  Downloading PyQt6_Qt6-6.5.2-py3-none-win_amd64.whl (59.3 MB)\n",
      "     --------------------------------------- 59.3/59.3 MB 40.9 MB/s eta 0:00:00\n",
      "Installing collected packages: PyQt6-Qt6, PyQt6-sip, pyqt6\n",
      "Successfully installed PyQt6-Qt6-6.5.2 PyQt6-sip-13.5.2 pyqt6-6.5.2\n"
     ]
    }
   ],
   "source": [
    "#!pip install pyqt6"
   ]
  },
  {
   "cell_type": "code",
   "execution_count": 9,
   "metadata": {},
   "outputs": [],
   "source": [
    "!designer"
   ]
  },
  {
   "cell_type": "code",
   "execution_count": 1,
   "metadata": {},
   "outputs": [],
   "source": [
    "import typing\n",
    "from PyQt6 import QtCore, QtWidgets\n",
    "from PyQt6 import uic\n",
    "from PyQt6.QtWidgets import QWidget,QMessageBox,QStyle\n",
    "\n",
    "class MainWindow(QtWidgets.QMainWindow):\n",
    "    def __init__(self):\n",
    "        super().__init__()\n",
    "        uic.load_ui.loadUi(\"./main.ui\",self)\n",
    "        myicon = QStyle.StandardPixmap.SP_ComputerIcon\n",
    "        self.setWindowTitle(\"Calculator | +,-,*,/\")\n",
    "        self.icon = self.style().standardIcon(myicon)\n",
    "\n",
    "        self.setWindowIcon(self.icon)\n",
    "        self.Plus.clicked.connect(self.ButtonPress)\n",
    "        self.Lob.clicked.connect(self.ButtonPress)\n",
    "        self.Koon.clicked.connect(self.ButtonPress)\n",
    "        self.Hann.clicked.connect(self.ButtonPress)\n",
    "        \n",
    "    def ButtonPress(self):\n",
    "        if self.is_number(self.lineEdit.text()):\n",
    "            if(self.is_number(self.lineEdit_2.text())):\n",
    "                self.input = float(self.lineEdit.text())\n",
    "                self.input2 = float(self.lineEdit_2.text())\n",
    "            elif(not self.is_number(self.lineEdit_2.text()) and self.lineEdit_2.text()==\"\"):\n",
    "                self.input = float(self.lineEdit.text())\n",
    "                self.input2 = self.input\n",
    "                \n",
    "            \n",
    "            if(self.sender()==self.Plus):\n",
    "                self.sum = self.input+self.input2\n",
    "                self.symbol = \"+\"\n",
    "            elif(self.sender()==self.Lob):\n",
    "                self.sum = self.input-self.input2\n",
    "                self.symbol = \"-\"\n",
    "            elif(self.sender()==self.Koon):\n",
    "                self.sum = self.input*self.input2\n",
    "                self.symbol = \"*\"\n",
    "            elif(self.sender()==self.Hann):\n",
    "                self.sum = self.input/self.input2\n",
    "                self.symbol = \"/\"\n",
    "            self.msg = QMessageBox()\n",
    "            self.msg.setWindowIcon(self.icon)\n",
    "            self.msg.setIcon(QMessageBox.Icon.Information)\n",
    "            self.msg.setWindowTitle(\"บวกลบคูณหาร\")\n",
    "            self.msg.setText(str(self.input)+\" \"+self.symbol+\" \"+str(self.input2)+\" = \"+str(self.sum))\n",
    "            self.msg.setStandardButtons(QMessageBox.StandardButton.Ok|\n",
    "                                        QMessageBox.StandardButton.Cancel|\n",
    "                                        QMessageBox.StandardButton.Help)\n",
    "            #self.msg.show()\n",
    "            result = self.msg.exec()\n",
    "            if(result==QMessageBox.StandardButton.Ok): #check OK\n",
    "                self.lineEdit.setText(str(self.sum))\n",
    "                self.lineEdit_2.setText(\"\")\n",
    "        else:\n",
    "            QMessageBox.critical(self, \"ข้อผิดพลาด\", \"โปรดป้อนค่าตัวเลขที่ถูกต้อง\")\n",
    "\n",
    "    def is_number(self, text):\n",
    "        try:\n",
    "            float(text)\n",
    "            return True\n",
    "        except ValueError:\n",
    "            return False\n",
    "\n",
    "app = QtWidgets.QApplication.instance()\n",
    "if app is None : app = QtWidgets.QApplication([])\n",
    "window = MainWindow()\n",
    "window.show()\n",
    "app.exec()"
   ]
  }
 ],
 "metadata": {
  "kernelspec": {
   "display_name": "base",
   "language": "python",
   "name": "python3"
  },
  "language_info": {
   "codemirror_mode": {
    "name": "ipython",
    "version": 3
   },
   "file_extension": ".py",
   "mimetype": "text/x-python",
   "name": "python",
   "nbconvert_exporter": "python",
   "pygments_lexer": "ipython3",
   "version": "3.10.9"
  },
  "orig_nbformat": 4
 },
 "nbformat": 4,
 "nbformat_minor": 2
}
